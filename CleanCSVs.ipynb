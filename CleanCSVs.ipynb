{
 "cells": [
  {
   "cell_type": "code",
   "execution_count": 12,
   "metadata": {},
   "outputs": [
    {
     "name": "stdout",
     "output_type": "stream",
     "text": [
      "             country_name country_code                 indicator_name  \\\n",
      "0                   Aruba          ABW  Physicians (per 1,000 people)   \n",
      "1                 Albania          ALB  Physicians (per 1,000 people)   \n",
      "2                 Andorra          AND  Physicians (per 1,000 people)   \n",
      "3              Arab World          ARB  Physicians (per 1,000 people)   \n",
      "4    United Arab Emirates          ARE  Physicians (per 1,000 people)   \n",
      "..                    ...          ...                            ...   \n",
      "257                Kosovo          XKX  Physicians (per 1,000 people)   \n",
      "258           Yemen, Rep.          YEM  Physicians (per 1,000 people)   \n",
      "259          South Africa          ZAF  Physicians (per 1,000 people)   \n",
      "260                Zambia          ZMB  Physicians (per 1,000 people)   \n",
      "261              Zimbabwe          ZWE  Physicians (per 1,000 people)   \n",
      "\n",
      "     indicator_code   1960  1961  1962  1963  1964   1965  ...     2011  \\\n",
      "0    SH.MED.PHYS.ZS  0.206   1.1  1.15   1.1   1.2  0.195  ...  2.11915   \n",
      "1    SH.MED.PHYS.ZS  0.276   1.1  1.15   1.1   1.2  0.481  ...  1.22250   \n",
      "2    SH.MED.PHYS.ZS  0.206   1.1  1.15   1.1   1.2  0.195  ...  2.11915   \n",
      "3    SH.MED.PHYS.ZS  0.206   1.1  1.15   1.1   1.2  0.195  ...  2.11915   \n",
      "4    SH.MED.PHYS.ZS  0.206   1.1  1.15   1.1   1.2  0.195  ...  1.48240   \n",
      "..              ...    ...   ...   ...   ...   ...    ...  ...      ...   \n",
      "257  SH.MED.PHYS.ZS  0.206   1.1  1.15   1.1   1.2  0.195  ...  2.11915   \n",
      "258  SH.MED.PHYS.ZS  0.023   1.1  1.15   1.1   1.2  0.032  ...  2.11915   \n",
      "259  SH.MED.PHYS.ZS  0.206   1.1  1.15   1.1   1.2  0.488  ...  0.71430   \n",
      "260  SH.MED.PHYS.ZS  0.107   1.1  1.15   1.1   1.2  0.088  ...  0.16210   \n",
      "261  SH.MED.PHYS.ZS  0.202   1.1  1.15   1.1   1.2  0.125  ...  0.07330   \n",
      "\n",
      "       2012    2013    2014      2015    2016    2017    2018  2019  __nm_id  \n",
      "0    2.2283  2.2223  2.2899  1.937900  2.1489  1.1262  1.0056   NaN        0  \n",
      "1    1.2658  1.2706  2.2899  1.937900  1.1998  1.1262  1.0056   NaN        3  \n",
      "2    2.2283  2.2223  2.2899  3.333300  2.1489  1.1262  1.0056   NaN        4  \n",
      "3    2.2283  2.2223  2.2899  1.097303  2.1489  1.1262  1.0056   NaN        5  \n",
      "4    1.5167  1.7783  2.0268  2.237300  2.3944  1.1262  1.0056   NaN        6  \n",
      "..      ...     ...     ...       ...     ...     ...     ...   ...      ...  \n",
      "257  2.2283  2.2223  2.2899  1.937900  2.1489  1.1262  1.0056   NaN      259  \n",
      "258  2.2283  2.2223  0.3104  1.937900  2.1489  1.1262  1.0056   NaN      260  \n",
      "259  0.7254  0.7411  0.7542  0.782700  0.8024  0.9101  1.0056   NaN      261  \n",
      "260  0.1632  2.2223  2.2899  1.937900  0.0913  1.1262  1.0056   NaN      262  \n",
      "261  0.0720  0.0740  0.0763  1.937900  2.1489  1.1262  1.0056   NaN      263  \n",
      "\n",
      "[262 rows x 65 columns]\n",
      "['country_name', 'country_code', 'indicator_name', 'indicator_code', '1960', '1961', '1962', '1963', '1964', '1965', '1966', '1967', '1968', '1969', '1970', '1971', '1972', '1973', '1974', '1975', '1976', '1977', '1978', '1979', '1980', '1981', '1982', '1983', '1984', '1985', '1986', '1987', '1988', '1989', '1990', '1991', '1992', '1993', '1994', '1995', '1996', '1997', '1998', '1999', '2000', '2001', '2002', '2003', '2004', '2005', '2006', '2007', '2008', '2009', '2010', '2011', '2012', '2013', '2014', '2015', '2016', '2017', '2018', '2019', '__nm_id']\n"
     ]
    }
   ],
   "source": [
    "import pandas as pd\n",
    "import numpy as np\n",
    "\n",
    "# sources: https://towardsdatascience.com/cleaning-missing-values-in-a-pandas-dataframe-a88b3d1a66bf\n",
    "\n",
    "def fillNAWithMedian(headers, df, isAllCols):\n",
    "    print(df)\n",
    "    if(isAllCols):\n",
    "        headers = list(df.columns)\n",
    "        print(headers)\n",
    "    for header in headers:\n",
    "        if (df[header].dtypes == np.int64 or df[header].dtypes == np.float64) and (not df[header].isnull().all()):\n",
    "            median = df[header].median()\n",
    "            df[header].fillna(median, inplace=True)\n",
    "    return df\n",
    "        \n",
    "def omitColumns(keysToOmit, df):\n",
    "    return df.drop(columns='1961')\n",
    "        \n",
    "def omitRows(rowsToOmit, df):\n",
    "    updatedDF = df.drop(df.index[rowsToOmit])\n",
    "\n",
    "    return updatedDF\n",
    "\n",
    "csvFile = \"droppedRows.csv\"#input(\"Enter the csv file you want to clean: \")\n",
    "\n",
    "if \".csv\" not in csvFile:\n",
    "    csvFile = csvFile + \".csv\"\n",
    "\n",
    "dataFrame = pd.read_csv(csvFile)\n",
    "\n",
    "# examples of how to use. Because datasets have different needs and ways to clean you'll have to manually code what you want gone\n",
    "\n",
    "medianDF = fillNAWithMedian([], dataFrame, True) #if you want specific scalar columns to be filled with the median instead\n",
    "# call it like this filNAWithMedian([\"1961\", \"1962\"], df, false)\n",
    "\n",
    "# in the [], add whatever rows yhou want to drop, if rows have a specific names, add the \"\" so pandas can read them and drop\n",
    "rowUpdatedDF = omitRows([1,2], dataFrame)\n",
    "columnUpdatedDF = omitColumns([1961], dataFrame)\n",
    "\n",
    "medianDF.to_csv(r'.\\median.csv', index = False)\n",
    "rowUpdatedDF.to_csv(r'.\\rowupdated.csv', index = False)\n",
    "columnUpdatedDF.to_csv(r'.\\columnupdated.csv', index = False)\n",
    "\n",
    "#if you need to apply more than 1 cleaning method, you can chain methods by calling the functions, storing them in a variable\n",
    "# and then calling the function on that recently cleaned dataFrame like the following:\n",
    "\n",
    "# columnUpdatedDF = omitColumns([1961], dataFrame) dropping an unnecessary column we don't need\n",
    "# newCSV =  fillNAWithMedian([], columnUpdatedDF, True)"
   ]
  },
  {
   "cell_type": "code",
   "execution_count": null,
   "metadata": {},
   "outputs": [],
   "source": [
    "cvdaf"
   ]
  }
 ],
 "metadata": {
  "kernelspec": {
   "display_name": "Python 3",
   "language": "python",
   "name": "python3"
  },
  "language_info": {
   "codemirror_mode": {
    "name": "ipython",
    "version": 3
   },
   "file_extension": ".py",
   "mimetype": "text/x-python",
   "name": "python",
   "nbconvert_exporter": "python",
   "pygments_lexer": "ipython3",
   "version": "3.6.7"
  }
 },
 "nbformat": 4,
 "nbformat_minor": 4
}
