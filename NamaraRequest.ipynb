{
 "cells": [
  {
   "cell_type": "code",
   "execution_count": 2,
   "metadata": {},
   "outputs": [
    {
     "name": "stdout",
     "output_type": "stream",
     "text": [
      "pslwork\n"
     ]
    }
   ],
   "source": [
    "from namara_python import Client\n",
    "import pandas as pd\n",
    "import numpy as np\n",
    "\n",
    "def fillNAWithMedian(keys, df):\n",
    "    for key in keys:\n",
    "        if df[key].dtypes == np.int64 or df[key].dtypes == np.float64:\n",
    "            median = df[key].median()\n",
    "            df[key].fillna(median, inplace=True)\n",
    "    return df\n",
    "        \n",
    "def omitColumns(keysToOmit, df):\n",
    "    return df.drop(columns='1961')\n",
    "        \n",
    "    \n",
    "\n",
    "client = Client(\n",
    "    api_key='a4f37d48d306c1833be0cf951e190b8480a964de69a4fa61c68e67d5d582698d',  \n",
    "    auth_url='https://account.dataxch.ai',\n",
    "    api_url='https://api.dataxch.ai'\n",
    ")\n",
    "\n",
    "resp = client.query(statement=\"SELECT * from 7ea47825-53c0-4dd3-9b37-e0a20c074c5a\")\n",
    "keys = []\n",
    "dataSet = {}\n",
    "\n",
    "#this follow block creates the format needed to make a csv via pandas\n",
    "for row in resp:\n",
    "    if(len(keys) == 0 ):\n",
    "        dataSetColHeaders = row.keys()\n",
    "        for header in dataSetColHeaders:\n",
    "            keys.append(header)\n",
    "            dataSet[header] = []\n",
    "    for key in keys:\n",
    "        dataSet[key].append(row[key])\n",
    "\n",
    "df = pd.DataFrame(dataSet)\n",
    "updatedDF = fillNAWithMedian(keys, df)\n",
    "\n",
    "droppedDF = omitColumns([1961], df)\n",
    "\n",
    "print('pslwork')\n",
    "#saves to your current directoy where you are running from. Change the csv file to something of yhour liking\n",
    "updatedDF.to_csv(r'.\\insertfilename.csv', index = False)\n",
    "droppedDF.to_csv(r'.\\dropped.csv', index = False)"
   ]
  },
  {
   "cell_type": "code",
   "execution_count": null,
   "metadata": {},
   "outputs": [],
   "source": []
  },
  {
   "cell_type": "code",
   "execution_count": null,
   "metadata": {},
   "outputs": [],
   "source": []
  },
  {
   "cell_type": "code",
   "execution_count": null,
   "metadata": {},
   "outputs": [],
   "source": []
  }
 ],
 "metadata": {
  "kernelspec": {
   "display_name": "Python 3",
   "language": "python",
   "name": "python3"
  },
  "language_info": {
   "codemirror_mode": {
    "name": "ipython",
    "version": 3
   },
   "file_extension": ".py",
   "mimetype": "text/x-python",
   "name": "python",
   "nbconvert_exporter": "python",
   "pygments_lexer": "ipython3",
   "version": "3.8.3rc1"
  }
 },
 "nbformat": 4,
 "nbformat_minor": 4
}
